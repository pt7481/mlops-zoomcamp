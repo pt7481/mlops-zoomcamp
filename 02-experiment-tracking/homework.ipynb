{
 "cells": [
  {
   "cell_type": "code",
   "execution_count": 2,
   "id": "93a7bb6b",
   "metadata": {},
   "outputs": [
    {
     "name": "stdout",
     "output_type": "stream",
     "text": [
      "Requirement already satisfied: mlflow in /home/pt7481/anaconda3/lib/python3.12/site-packages (2.22.0)\n",
      "Requirement already satisfied: mlflow-skinny==2.22.0 in /home/pt7481/anaconda3/lib/python3.12/site-packages (from mlflow) (2.22.0)\n",
      "Requirement already satisfied: Flask<4 in /home/pt7481/anaconda3/lib/python3.12/site-packages (from mlflow) (3.0.3)\n",
      "Requirement already satisfied: Jinja2<4,>=2.11 in /home/pt7481/anaconda3/lib/python3.12/site-packages (from mlflow) (3.1.4)\n",
      "Requirement already satisfied: alembic!=1.10.0,<2 in /home/pt7481/anaconda3/lib/python3.12/site-packages (from mlflow) (1.16.1)\n",
      "Requirement already satisfied: docker<8,>=4.0.0 in /home/pt7481/anaconda3/lib/python3.12/site-packages (from mlflow) (7.1.0)\n",
      "Requirement already satisfied: graphene<4 in /home/pt7481/anaconda3/lib/python3.12/site-packages (from mlflow) (3.4.3)\n",
      "Requirement already satisfied: gunicorn<24 in /home/pt7481/anaconda3/lib/python3.12/site-packages (from mlflow) (23.0.0)\n",
      "Requirement already satisfied: markdown<4,>=3.3 in /home/pt7481/anaconda3/lib/python3.12/site-packages (from mlflow) (3.4.1)\n",
      "Requirement already satisfied: matplotlib<4 in /home/pt7481/anaconda3/lib/python3.12/site-packages (from mlflow) (3.9.2)\n",
      "Requirement already satisfied: numpy<3 in /home/pt7481/anaconda3/lib/python3.12/site-packages (from mlflow) (1.26.4)\n",
      "Requirement already satisfied: pandas<3 in /home/pt7481/anaconda3/lib/python3.12/site-packages (from mlflow) (2.2.2)\n",
      "Requirement already satisfied: pyarrow<20,>=4.0.0 in /home/pt7481/anaconda3/lib/python3.12/site-packages (from mlflow) (16.1.0)\n",
      "Requirement already satisfied: scikit-learn<2 in /home/pt7481/anaconda3/lib/python3.12/site-packages (from mlflow) (1.5.1)\n",
      "Requirement already satisfied: scipy<2 in /home/pt7481/anaconda3/lib/python3.12/site-packages (from mlflow) (1.13.1)\n",
      "Requirement already satisfied: sqlalchemy<3,>=1.4.0 in /home/pt7481/anaconda3/lib/python3.12/site-packages (from mlflow) (2.0.34)\n",
      "Requirement already satisfied: cachetools<6,>=5.0.0 in /home/pt7481/anaconda3/lib/python3.12/site-packages (from mlflow-skinny==2.22.0->mlflow) (5.3.3)\n",
      "Requirement already satisfied: click<9,>=7.0 in /home/pt7481/anaconda3/lib/python3.12/site-packages (from mlflow-skinny==2.22.0->mlflow) (8.1.7)\n",
      "Requirement already satisfied: cloudpickle<4 in /home/pt7481/anaconda3/lib/python3.12/site-packages (from mlflow-skinny==2.22.0->mlflow) (3.0.0)\n",
      "Requirement already satisfied: databricks-sdk<1,>=0.20.0 in /home/pt7481/anaconda3/lib/python3.12/site-packages (from mlflow-skinny==2.22.0->mlflow) (0.54.0)\n",
      "Requirement already satisfied: fastapi<1 in /home/pt7481/anaconda3/lib/python3.12/site-packages (from mlflow-skinny==2.22.0->mlflow) (0.115.12)\n",
      "Requirement already satisfied: gitpython<4,>=3.1.9 in /home/pt7481/anaconda3/lib/python3.12/site-packages (from mlflow-skinny==2.22.0->mlflow) (3.1.43)\n",
      "Requirement already satisfied: importlib_metadata!=4.7.0,<9,>=3.7.0 in /home/pt7481/anaconda3/lib/python3.12/site-packages (from mlflow-skinny==2.22.0->mlflow) (7.0.1)\n",
      "Requirement already satisfied: opentelemetry-api<3,>=1.9.0 in /home/pt7481/anaconda3/lib/python3.12/site-packages (from mlflow-skinny==2.22.0->mlflow) (1.33.1)\n",
      "Requirement already satisfied: opentelemetry-sdk<3,>=1.9.0 in /home/pt7481/anaconda3/lib/python3.12/site-packages (from mlflow-skinny==2.22.0->mlflow) (1.33.1)\n",
      "Requirement already satisfied: packaging<25 in /home/pt7481/anaconda3/lib/python3.12/site-packages (from mlflow-skinny==2.22.0->mlflow) (24.1)\n",
      "Requirement already satisfied: protobuf<7,>=3.12.0 in /home/pt7481/anaconda3/lib/python3.12/site-packages (from mlflow-skinny==2.22.0->mlflow) (4.25.3)\n",
      "Requirement already satisfied: pydantic<3,>=1.10.8 in /home/pt7481/anaconda3/lib/python3.12/site-packages (from mlflow-skinny==2.22.0->mlflow) (2.8.2)\n",
      "Requirement already satisfied: pyyaml<7,>=5.1 in /home/pt7481/anaconda3/lib/python3.12/site-packages (from mlflow-skinny==2.22.0->mlflow) (6.0.1)\n",
      "Requirement already satisfied: requests<3,>=2.17.3 in /home/pt7481/anaconda3/lib/python3.12/site-packages (from mlflow-skinny==2.22.0->mlflow) (2.32.3)\n",
      "Requirement already satisfied: sqlparse<1,>=0.4.0 in /home/pt7481/anaconda3/lib/python3.12/site-packages (from mlflow-skinny==2.22.0->mlflow) (0.5.3)\n",
      "Requirement already satisfied: typing-extensions<5,>=4.0.0 in /home/pt7481/anaconda3/lib/python3.12/site-packages (from mlflow-skinny==2.22.0->mlflow) (4.13.2)\n",
      "Requirement already satisfied: uvicorn<1 in /home/pt7481/anaconda3/lib/python3.12/site-packages (from mlflow-skinny==2.22.0->mlflow) (0.34.2)\n",
      "Requirement already satisfied: Mako in /home/pt7481/anaconda3/lib/python3.12/site-packages (from alembic!=1.10.0,<2->mlflow) (1.3.10)\n",
      "Requirement already satisfied: urllib3>=1.26.0 in /home/pt7481/anaconda3/lib/python3.12/site-packages (from docker<8,>=4.0.0->mlflow) (2.2.3)\n",
      "Requirement already satisfied: Werkzeug>=3.0.0 in /home/pt7481/anaconda3/lib/python3.12/site-packages (from Flask<4->mlflow) (3.0.3)\n",
      "Requirement already satisfied: itsdangerous>=2.1.2 in /home/pt7481/anaconda3/lib/python3.12/site-packages (from Flask<4->mlflow) (2.2.0)\n",
      "Requirement already satisfied: blinker>=1.6.2 in /home/pt7481/anaconda3/lib/python3.12/site-packages (from Flask<4->mlflow) (1.6.2)\n",
      "Requirement already satisfied: graphql-core<3.3,>=3.1 in /home/pt7481/anaconda3/lib/python3.12/site-packages (from graphene<4->mlflow) (3.2.6)\n",
      "Requirement already satisfied: graphql-relay<3.3,>=3.1 in /home/pt7481/anaconda3/lib/python3.12/site-packages (from graphene<4->mlflow) (3.2.0)\n",
      "Requirement already satisfied: python-dateutil<3,>=2.7.0 in /home/pt7481/anaconda3/lib/python3.12/site-packages (from graphene<4->mlflow) (2.9.0.post0)\n",
      "Requirement already satisfied: MarkupSafe>=2.0 in /home/pt7481/anaconda3/lib/python3.12/site-packages (from Jinja2<4,>=2.11->mlflow) (2.1.3)\n",
      "Requirement already satisfied: contourpy>=1.0.1 in /home/pt7481/anaconda3/lib/python3.12/site-packages (from matplotlib<4->mlflow) (1.2.0)\n",
      "Requirement already satisfied: cycler>=0.10 in /home/pt7481/anaconda3/lib/python3.12/site-packages (from matplotlib<4->mlflow) (0.11.0)\n",
      "Requirement already satisfied: fonttools>=4.22.0 in /home/pt7481/anaconda3/lib/python3.12/site-packages (from matplotlib<4->mlflow) (4.51.0)\n",
      "Requirement already satisfied: kiwisolver>=1.3.1 in /home/pt7481/anaconda3/lib/python3.12/site-packages (from matplotlib<4->mlflow) (1.4.4)\n",
      "Requirement already satisfied: pillow>=8 in /home/pt7481/anaconda3/lib/python3.12/site-packages (from matplotlib<4->mlflow) (10.4.0)\n",
      "Requirement already satisfied: pyparsing>=2.3.1 in /home/pt7481/anaconda3/lib/python3.12/site-packages (from matplotlib<4->mlflow) (3.1.2)\n",
      "Requirement already satisfied: pytz>=2020.1 in /home/pt7481/anaconda3/lib/python3.12/site-packages (from pandas<3->mlflow) (2024.1)\n",
      "Requirement already satisfied: tzdata>=2022.7 in /home/pt7481/anaconda3/lib/python3.12/site-packages (from pandas<3->mlflow) (2023.3)\n",
      "Requirement already satisfied: joblib>=1.2.0 in /home/pt7481/anaconda3/lib/python3.12/site-packages (from scikit-learn<2->mlflow) (1.4.2)\n",
      "Requirement already satisfied: threadpoolctl>=3.1.0 in /home/pt7481/anaconda3/lib/python3.12/site-packages (from scikit-learn<2->mlflow) (3.5.0)\n",
      "Requirement already satisfied: greenlet!=0.4.17 in /home/pt7481/anaconda3/lib/python3.12/site-packages (from sqlalchemy<3,>=1.4.0->mlflow) (3.0.1)\n",
      "Requirement already satisfied: google-auth~=2.0 in /home/pt7481/anaconda3/lib/python3.12/site-packages (from databricks-sdk<1,>=0.20.0->mlflow-skinny==2.22.0->mlflow) (2.40.2)\n",
      "Requirement already satisfied: starlette<0.47.0,>=0.40.0 in /home/pt7481/anaconda3/lib/python3.12/site-packages (from fastapi<1->mlflow-skinny==2.22.0->mlflow) (0.46.2)\n",
      "Requirement already satisfied: gitdb<5,>=4.0.1 in /home/pt7481/anaconda3/lib/python3.12/site-packages (from gitpython<4,>=3.1.9->mlflow-skinny==2.22.0->mlflow) (4.0.7)\n",
      "Requirement already satisfied: zipp>=0.5 in /home/pt7481/anaconda3/lib/python3.12/site-packages (from importlib_metadata!=4.7.0,<9,>=3.7.0->mlflow-skinny==2.22.0->mlflow) (3.17.0)\n",
      "Requirement already satisfied: deprecated>=1.2.6 in /home/pt7481/anaconda3/lib/python3.12/site-packages (from opentelemetry-api<3,>=1.9.0->mlflow-skinny==2.22.0->mlflow) (1.2.18)\n",
      "Requirement already satisfied: opentelemetry-semantic-conventions==0.54b1 in /home/pt7481/anaconda3/lib/python3.12/site-packages (from opentelemetry-sdk<3,>=1.9.0->mlflow-skinny==2.22.0->mlflow) (0.54b1)\n",
      "Requirement already satisfied: annotated-types>=0.4.0 in /home/pt7481/anaconda3/lib/python3.12/site-packages (from pydantic<3,>=1.10.8->mlflow-skinny==2.22.0->mlflow) (0.6.0)\n",
      "Requirement already satisfied: pydantic-core==2.20.1 in /home/pt7481/anaconda3/lib/python3.12/site-packages (from pydantic<3,>=1.10.8->mlflow-skinny==2.22.0->mlflow) (2.20.1)\n",
      "Requirement already satisfied: six>=1.5 in /home/pt7481/anaconda3/lib/python3.12/site-packages (from python-dateutil<3,>=2.7.0->graphene<4->mlflow) (1.16.0)\n",
      "Requirement already satisfied: charset-normalizer<4,>=2 in /home/pt7481/anaconda3/lib/python3.12/site-packages (from requests<3,>=2.17.3->mlflow-skinny==2.22.0->mlflow) (3.3.2)\n",
      "Requirement already satisfied: idna<4,>=2.5 in /home/pt7481/anaconda3/lib/python3.12/site-packages (from requests<3,>=2.17.3->mlflow-skinny==2.22.0->mlflow) (3.7)\n",
      "Requirement already satisfied: certifi>=2017.4.17 in /home/pt7481/anaconda3/lib/python3.12/site-packages (from requests<3,>=2.17.3->mlflow-skinny==2.22.0->mlflow) (2024.8.30)\n",
      "Requirement already satisfied: h11>=0.8 in /home/pt7481/anaconda3/lib/python3.12/site-packages (from uvicorn<1->mlflow-skinny==2.22.0->mlflow) (0.14.0)\n",
      "Requirement already satisfied: wrapt<2,>=1.10 in /home/pt7481/anaconda3/lib/python3.12/site-packages (from deprecated>=1.2.6->opentelemetry-api<3,>=1.9.0->mlflow-skinny==2.22.0->mlflow) (1.14.1)\n",
      "Requirement already satisfied: smmap<5,>=3.0.1 in /home/pt7481/anaconda3/lib/python3.12/site-packages (from gitdb<5,>=4.0.1->gitpython<4,>=3.1.9->mlflow-skinny==2.22.0->mlflow) (4.0.0)\n",
      "Requirement already satisfied: pyasn1-modules>=0.2.1 in /home/pt7481/anaconda3/lib/python3.12/site-packages (from google-auth~=2.0->databricks-sdk<1,>=0.20.0->mlflow-skinny==2.22.0->mlflow) (0.2.8)\n",
      "Requirement already satisfied: rsa<5,>=3.1.4 in /home/pt7481/anaconda3/lib/python3.12/site-packages (from google-auth~=2.0->databricks-sdk<1,>=0.20.0->mlflow-skinny==2.22.0->mlflow) (4.9.1)\n",
      "Requirement already satisfied: anyio<5,>=3.6.2 in /home/pt7481/anaconda3/lib/python3.12/site-packages (from starlette<0.47.0,>=0.40.0->fastapi<1->mlflow-skinny==2.22.0->mlflow) (4.2.0)\n",
      "Requirement already satisfied: sniffio>=1.1 in /home/pt7481/anaconda3/lib/python3.12/site-packages (from anyio<5,>=3.6.2->starlette<0.47.0,>=0.40.0->fastapi<1->mlflow-skinny==2.22.0->mlflow) (1.3.0)\n",
      "Requirement already satisfied: pyasn1<0.5.0,>=0.4.6 in /home/pt7481/anaconda3/lib/python3.12/site-packages (from pyasn1-modules>=0.2.1->google-auth~=2.0->databricks-sdk<1,>=0.20.0->mlflow-skinny==2.22.0->mlflow) (0.4.8)\n",
      "Note: you may need to restart the kernel to use updated packages.\n"
     ]
    }
   ],
   "source": [
    "%pip install mlflow"
   ]
  },
  {
   "cell_type": "code",
   "execution_count": null,
   "id": "d0e42a95",
   "metadata": {},
   "outputs": [],
   "source": []
  }
 ],
 "metadata": {
  "kernelspec": {
   "display_name": "base",
   "language": "python",
   "name": "python3"
  },
  "language_info": {
   "codemirror_mode": {
    "name": "ipython",
    "version": 3
   },
   "file_extension": ".py",
   "mimetype": "text/x-python",
   "name": "python",
   "nbconvert_exporter": "python",
   "pygments_lexer": "ipython3",
   "version": "3.12.7"
  }
 },
 "nbformat": 4,
 "nbformat_minor": 5
}
